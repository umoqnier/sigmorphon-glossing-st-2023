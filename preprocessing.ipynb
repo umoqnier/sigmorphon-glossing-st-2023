{
 "cells": [
  {
   "cell_type": "markdown",
   "id": "6760f576-c298-481d-ad17-6081c76f7b94",
   "metadata": {},
   "source": [
    "# Shared Task SIGMORPHON 2023 on Interlinear glossing"
   ]
  },
  {
   "cell_type": "code",
   "execution_count": 1,
   "id": "e97c1fb9",
   "metadata": {
    "tags": []
   },
   "outputs": [],
   "source": [
    "import os\n",
    "from utils import load_corpus\n",
    "\n",
    "CORPORA_PATH = \"corpora\"\n",
    "LANGUAGES = {\n",
    "    \"arp\": \"Arapaho\",\n",
    "    \"git\": \"Gitksan\",\n",
    "    \"lez\": \"Lezgi\",\n",
    "    \"nyb\": \"Nyangbo\",\n",
    "    \"ddo\": \"Tsez\",\n",
    "    \"usp\": \"Uspanteko\"\n",
    "}"
   ]
  },
  {
   "cell_type": "code",
   "execution_count": 2,
   "id": "85d24ff9-4e95-44c3-8fda-68e396b53c7a",
   "metadata": {
    "tags": []
   },
   "outputs": [],
   "source": [
    "# TODO: indicate dinamically track, train or dev and corvered and uncovered\n",
    "for lang_iso, language in LANGUAGES.items():\n",
    "    file_name = f\"{lang_iso}-train-track1-uncovered\"\n",
    "    current_path = os.path.join(CORPORA_PATH, language, file_name)\n",
    "    data = load_corpus(current_path)\n",
    "    \n",
    "    break"
   ]
  },
  {
   "cell_type": "code",
   "execution_count": 3,
   "id": "a7af1c66-0d34-468f-82b8-4d4ab496de87",
   "metadata": {
    "tags": []
   },
   "outputs": [
    {
     "data": {
      "text/plain": [
       "[{'text': \"wootii niiyou heesiini hee3ohwooni3 'oh hih'ow3o'P hih'ow3o'nee'ee3obeeno'\",\n",
       "  'gloss': 'like here.it.is what-DETACH how.s.o..is.dancing-4S but 3S.PAST-never-pause 3S.PAST-never-see.s.t..like.that-pers.PL',\n",
       "  'translation': 'I guess the way he was dancing , they had never seen anything like that .'},\n",
       " {'text': \"'oh siiyeih hiiwoonhehe' hoowooh'uni\",\n",
       "  'gloss': 'but INTENSE now no.longer-DETACH',\n",
       "  'translation': \"But today that's really gone .\"},\n",
       " {'text': \"Nihtonounowoo biiino' noh hoote\",\n",
       "  'gloss': 'PAST-use-1S plume-NA.PL and sinew',\n",
       "  'translation': 'I used feathers and sinew .'},\n",
       " {'text': 'noh heetbeebebeenoxuuheit',\n",
       "  'gloss': 'and FUT-REDUP-mock-4',\n",
       "  'translation': 'and he will be mocked ,'},\n",
       " {'text': \"heetne'ii'P woowooyoo'ohk heet-ne'ii'cencei'soo'\",\n",
       "  'gloss': \"FUT-that's.when-pause REDUP-new-SUBJ FUT-that's.when-very-different-0S\",\n",
       "  'translation': 'It will be , pretty soon it will all be different  [ from how it is now ].'},\n",
       " {'text': \"hito'oowuu' he3ebciiteit\",\n",
       "  'gloss': '3S-house there,.to.there-enter-3.S',\n",
       "  'translation': 'She went into her house there .'},\n",
       " {'text': \"Noh ne'ce'niisiine'etiinoo\",\n",
       "  'gloss': 'and then-again-alone-live-1S',\n",
       "  'translation': 'So I again was a widow .'},\n",
       " {'text': 'heeninouhuP heninouhusei',\n",
       "  'gloss': 'IC.wear.long.clothes-pause nun',\n",
       "  'translation': 'Catholic/long clothes woman ?'},\n",
       " {'text': \"yeoh heentoo3i' hecexonoh'oehih'o' nihtouninee3i'\",\n",
       "  'gloss': 'yeah IC.be.at-3PL little.boys PAST-capture-3PL',\n",
       "  'translation': 'Yeoh , there are very young boys  [ still ] around who took captives .'},\n",
       " {'text': \"Nono'o3oo' tohwonoo3eet 3owo3nenitee hoowoe'in nuh'uuno niiseenetiitooni'\",\n",
       "  'gloss': 'IC.terrible-0S since-IC.be.a.lot indian not.know this how.IMPERF-people.speak-0S',\n",
       "  'translation': \"It's a shame that so many Indians don't know how to speak .\"}]"
      ]
     },
     "execution_count": 3,
     "metadata": {},
     "output_type": "execute_result"
    }
   ],
   "source": [
    "data[:10]"
   ]
  },
  {
   "cell_type": "code",
   "execution_count": null,
   "id": "fcdfcd07-a3cf-488d-bcf4-f2f3be68e302",
   "metadata": {},
   "outputs": [],
   "source": []
  }
 ],
 "metadata": {
  "kernelspec": {
   "display_name": "Python 3 (ipykernel)",
   "language": "python",
   "name": "python3"
  },
  "language_info": {
   "codemirror_mode": {
    "name": "ipython",
    "version": 3
   },
   "file_extension": ".py",
   "mimetype": "text/x-python",
   "name": "python",
   "nbconvert_exporter": "python",
   "pygments_lexer": "ipython3",
   "version": "3.10.9"
  }
 },
 "nbformat": 4,
 "nbformat_minor": 5
}
